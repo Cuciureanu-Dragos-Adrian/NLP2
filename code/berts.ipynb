{
  "cells": [
    {
      "cell_type": "markdown",
      "metadata": {
        "id": "8ZqhOvHMLRpL"
      },
      "source": [
        "### Imports"
      ]
    },
    {
      "cell_type": "code",
      "execution_count": 1,
      "metadata": {
        "colab": {
          "base_uri": "https://localhost:8080/"
        },
        "id": "XtWesAegLRpM",
        "outputId": "cdc175ec-bafc-4fed-b692-8a0e2cf52777"
      },
      "outputs": [
        {
          "name": "stdout",
          "output_type": "stream",
          "text": [
            "Defaulting to user installation because normal site-packages is not writeable\n",
            "Requirement already satisfied: pandas in c:\\users\\adi\\appdata\\roaming\\python\\python312\\site-packages (2.2.3)\n",
            "Requirement already satisfied: numpy>=1.26.0 in c:\\users\\adi\\appdata\\roaming\\python\\python312\\site-packages (from pandas) (1.26.4)\n",
            "Requirement already satisfied: python-dateutil>=2.8.2 in c:\\users\\adi\\appdata\\roaming\\python\\python312\\site-packages (from pandas) (2.9.0.post0)\n",
            "Requirement already satisfied: pytz>=2020.1 in c:\\users\\adi\\appdata\\roaming\\python\\python312\\site-packages (from pandas) (2024.2)\n",
            "Requirement already satisfied: tzdata>=2022.7 in c:\\users\\adi\\appdata\\roaming\\python\\python312\\site-packages (from pandas) (2024.2)\n",
            "Requirement already satisfied: six>=1.5 in c:\\users\\adi\\appdata\\roaming\\python\\python312\\site-packages (from python-dateutil>=2.8.2->pandas) (1.16.0)\n"
          ]
        },
        {
          "name": "stderr",
          "output_type": "stream",
          "text": [
            "\n",
            "[notice] A new release of pip is available: 24.0 -> 25.0\n",
            "[notice] To update, run: python.exe -m pip install --upgrade pip\n",
            "The system cannot find the file specified.\n"
          ]
        },
        {
          "name": "stdout",
          "output_type": "stream",
          "text": [
            "Defaulting to user installation because normal site-packages is not writeable\n",
            "Requirement already satisfied: transformers in c:\\users\\adi\\appdata\\roaming\\python\\python312\\site-packages (4.48.1)\n",
            "Requirement already satisfied: filelock in c:\\users\\adi\\appdata\\roaming\\python\\python312\\site-packages (from transformers) (3.17.0)\n",
            "Requirement already satisfied: huggingface-hub<1.0,>=0.24.0 in c:\\users\\adi\\appdata\\roaming\\python\\python312\\site-packages (from transformers) (0.28.0)\n",
            "Requirement already satisfied: numpy>=1.17 in c:\\users\\adi\\appdata\\roaming\\python\\python312\\site-packages (from transformers) (1.26.4)\n",
            "Requirement already satisfied: packaging>=20.0 in c:\\users\\adi\\appdata\\roaming\\python\\python312\\site-packages (from transformers) (24.0)\n",
            "Requirement already satisfied: pyyaml>=5.1 in c:\\users\\adi\\appdata\\roaming\\python\\python312\\site-packages (from transformers) (6.0.2)\n",
            "Requirement already satisfied: regex!=2019.12.17 in c:\\users\\adi\\appdata\\roaming\\python\\python312\\site-packages (from transformers) (2024.11.6)\n",
            "Requirement already satisfied: requests in c:\\users\\adi\\appdata\\roaming\\python\\python312\\site-packages (from transformers) (2.32.2)\n",
            "Requirement already satisfied: tokenizers<0.22,>=0.21 in c:\\users\\adi\\appdata\\roaming\\python\\python312\\site-packages (from transformers) (0.21.0)\n",
            "Requirement already satisfied: safetensors>=0.4.1 in c:\\users\\adi\\appdata\\roaming\\python\\python312\\site-packages (from transformers) (0.5.2)\n",
            "Requirement already satisfied: tqdm>=4.27 in c:\\users\\adi\\appdata\\roaming\\python\\python312\\site-packages (from transformers) (4.67.1)\n",
            "Requirement already satisfied: fsspec>=2023.5.0 in c:\\users\\adi\\appdata\\roaming\\python\\python312\\site-packages (from huggingface-hub<1.0,>=0.24.0->transformers) (2024.12.0)\n",
            "Requirement already satisfied: typing-extensions>=3.7.4.3 in c:\\users\\adi\\appdata\\roaming\\python\\python312\\site-packages (from huggingface-hub<1.0,>=0.24.0->transformers) (4.12.2)\n",
            "Requirement already satisfied: colorama in c:\\users\\adi\\appdata\\roaming\\python\\python312\\site-packages (from tqdm>=4.27->transformers) (0.4.6)\n",
            "Requirement already satisfied: charset-normalizer<4,>=2 in c:\\users\\adi\\appdata\\roaming\\python\\python312\\site-packages (from requests->transformers) (3.3.2)\n",
            "Requirement already satisfied: idna<4,>=2.5 in c:\\users\\adi\\appdata\\roaming\\python\\python312\\site-packages (from requests->transformers) (3.7)\n",
            "Requirement already satisfied: urllib3<3,>=1.21.1 in c:\\users\\adi\\appdata\\roaming\\python\\python312\\site-packages (from requests->transformers) (2.2.1)\n",
            "Requirement already satisfied: certifi>=2017.4.17 in c:\\users\\adi\\appdata\\roaming\\python\\python312\\site-packages (from requests->transformers) (2024.2.2)\n"
          ]
        },
        {
          "name": "stderr",
          "output_type": "stream",
          "text": [
            "\n",
            "[notice] A new release of pip is available: 24.0 -> 25.0\n",
            "[notice] To update, run: python.exe -m pip install --upgrade pip\n",
            "C:\\Users\\Adi\\AppData\\Roaming\\Python\\Python312\\site-packages\\tqdm\\auto.py:21: TqdmWarning: IProgress not found. Please update jupyter and ipywidgets. See https://ipywidgets.readthedocs.io/en/stable/user_install.html\n",
            "  from .autonotebook import tqdm as notebook_tqdm\n"
          ]
        },
        {
          "name": "stdout",
          "output_type": "stream",
          "text": [
            "WARNING:tensorflow:From C:\\Users\\Adi\\AppData\\Roaming\\Python\\Python312\\site-packages\\tf_keras\\src\\losses.py:2976: The name tf.losses.sparse_softmax_cross_entropy is deprecated. Please use tf.compat.v1.losses.sparse_softmax_cross_entropy instead.\n",
            "\n"
          ]
        }
      ],
      "source": [
        "! pip install pandas\n",
        "! pip install 'keras>=2.0,<3'\n",
        "! pip install transformers\n",
        "\n",
        "import pandas as pd\n",
        "import matplotlib.pyplot as plt\n",
        "import seaborn\n",
        "import torch\n",
        "from sklearn.model_selection import train_test_split\n",
        "from sklearn.metrics import classification_report, confusion_matrix, f1_score\n",
        "from transformers import AutoTokenizer, AutoModelForSequenceClassification, Trainer, TrainingArguments, pipeline"
      ]
    },
    {
      "cell_type": "markdown",
      "metadata": {
        "id": "WaioXOsHLRpN"
      },
      "source": [
        "### Dataset"
      ]
    },
    {
      "cell_type": "code",
      "execution_count": 2,
      "metadata": {
        "colab": {
          "base_uri": "https://localhost:8080/",
          "height": 363
        },
        "id": "gKiIwRSLLRpO",
        "outputId": "3bbe779d-caa4-4977-c0ea-a1598d54932d"
      },
      "outputs": [
        {
          "data": {
            "text/html": [
              "<div>\n",
              "<style scoped>\n",
              "    .dataframe tbody tr th:only-of-type {\n",
              "        vertical-align: middle;\n",
              "    }\n",
              "\n",
              "    .dataframe tbody tr th {\n",
              "        vertical-align: top;\n",
              "    }\n",
              "\n",
              "    .dataframe thead th {\n",
              "        text-align: right;\n",
              "    }\n",
              "</style>\n",
              "<table border=\"1\" class=\"dataframe\">\n",
              "  <thead>\n",
              "    <tr style=\"text-align: right;\">\n",
              "      <th></th>\n",
              "      <th>label</th>\n",
              "      <th>text</th>\n",
              "    </tr>\n",
              "  </thead>\n",
              "  <tbody>\n",
              "    <tr>\n",
              "      <th>1</th>\n",
              "      <td>0</td>\n",
              "      <td>@user when a father is dysfunctional and is s...</td>\n",
              "    </tr>\n",
              "    <tr>\n",
              "      <th>2</th>\n",
              "      <td>0</td>\n",
              "      <td>@user @user thanks for #lyft credit i can't us...</td>\n",
              "    </tr>\n",
              "    <tr>\n",
              "      <th>3</th>\n",
              "      <td>0</td>\n",
              "      <td>bihday your majesty</td>\n",
              "    </tr>\n",
              "    <tr>\n",
              "      <th>4</th>\n",
              "      <td>0</td>\n",
              "      <td>#model   i love u take with u all the time in ...</td>\n",
              "    </tr>\n",
              "    <tr>\n",
              "      <th>5</th>\n",
              "      <td>0</td>\n",
              "      <td>factsguide: society now    #motivation</td>\n",
              "    </tr>\n",
              "    <tr>\n",
              "      <th>6</th>\n",
              "      <td>0</td>\n",
              "      <td>[2/2] huge fan fare and big talking before the...</td>\n",
              "    </tr>\n",
              "    <tr>\n",
              "      <th>7</th>\n",
              "      <td>0</td>\n",
              "      <td>@user camping tomorrow @user @user @user @use...</td>\n",
              "    </tr>\n",
              "    <tr>\n",
              "      <th>8</th>\n",
              "      <td>0</td>\n",
              "      <td>the next school year is the year for exams.ð...</td>\n",
              "    </tr>\n",
              "    <tr>\n",
              "      <th>9</th>\n",
              "      <td>0</td>\n",
              "      <td>we won!!! love the land!!! #allin #cavs #champ...</td>\n",
              "    </tr>\n",
              "    <tr>\n",
              "      <th>10</th>\n",
              "      <td>0</td>\n",
              "      <td>@user @user welcome here !  i'm   it's so #gr8 !</td>\n",
              "    </tr>\n",
              "  </tbody>\n",
              "</table>\n",
              "</div>"
            ],
            "text/plain": [
              "    label                                               text\n",
              "1       0   @user when a father is dysfunctional and is s...\n",
              "2       0  @user @user thanks for #lyft credit i can't us...\n",
              "3       0                                bihday your majesty\n",
              "4       0  #model   i love u take with u all the time in ...\n",
              "5       0             factsguide: society now    #motivation\n",
              "6       0  [2/2] huge fan fare and big talking before the...\n",
              "7       0   @user camping tomorrow @user @user @user @use...\n",
              "8       0  the next school year is the year for exams.ð...\n",
              "9       0  we won!!! love the land!!! #allin #cavs #champ...\n",
              "10      0   @user @user welcome here !  i'm   it's so #gr8 !"
            ]
          },
          "execution_count": 2,
          "metadata": {},
          "output_type": "execute_result"
        }
      ],
      "source": [
        "df = pd.read_csv('sample_data/racism-dataset.csv', sep=',', index_col=0)\n",
        "df.head(10)"
      ]
    },
    {
      "cell_type": "code",
      "execution_count": 3,
      "metadata": {
        "id": "V74pdaD8LRpO"
      },
      "outputs": [],
      "source": [
        "MAX_PREDOMINANT_LABEL_SAMPLES = 10000\n",
        "\n",
        "dfNonHate = df[df[\"label\"] == 0].head(MAX_PREDOMINANT_LABEL_SAMPLES)\n",
        "dfHate = df[df[\"label\"] == 1]\n",
        "\n",
        "df = pd.concat([dfNonHate, dfHate])"
      ]
    },
    {
      "cell_type": "code",
      "execution_count": 4,
      "metadata": {},
      "outputs": [
        {
          "data": {
            "text/html": [
              "<div>\n",
              "<style scoped>\n",
              "    .dataframe tbody tr th:only-of-type {\n",
              "        vertical-align: middle;\n",
              "    }\n",
              "\n",
              "    .dataframe tbody tr th {\n",
              "        vertical-align: top;\n",
              "    }\n",
              "\n",
              "    .dataframe thead th {\n",
              "        text-align: right;\n",
              "    }\n",
              "</style>\n",
              "<table border=\"1\" class=\"dataframe\">\n",
              "  <thead>\n",
              "    <tr style=\"text-align: right;\">\n",
              "      <th></th>\n",
              "      <th>label</th>\n",
              "      <th>text</th>\n",
              "    </tr>\n",
              "  </thead>\n",
              "  <tbody>\n",
              "    <tr>\n",
              "      <th>1</th>\n",
              "      <td>0</td>\n",
              "      <td>@user when a father is dysfunctional and is s...</td>\n",
              "    </tr>\n",
              "    <tr>\n",
              "      <th>2</th>\n",
              "      <td>0</td>\n",
              "      <td>@user @user thanks for #lyft credit i can't us...</td>\n",
              "    </tr>\n",
              "    <tr>\n",
              "      <th>3</th>\n",
              "      <td>0</td>\n",
              "      <td>bihday your majesty</td>\n",
              "    </tr>\n",
              "    <tr>\n",
              "      <th>4</th>\n",
              "      <td>0</td>\n",
              "      <td>#model   i love u take with u all the time in ...</td>\n",
              "    </tr>\n",
              "    <tr>\n",
              "      <th>5</th>\n",
              "      <td>0</td>\n",
              "      <td>factsguide: society now    #motivation</td>\n",
              "    </tr>\n",
              "    <tr>\n",
              "      <th>6</th>\n",
              "      <td>0</td>\n",
              "      <td>[2/2] huge fan fare and big talking before the...</td>\n",
              "    </tr>\n",
              "    <tr>\n",
              "      <th>7</th>\n",
              "      <td>0</td>\n",
              "      <td>@user camping tomorrow @user @user @user @use...</td>\n",
              "    </tr>\n",
              "    <tr>\n",
              "      <th>8</th>\n",
              "      <td>0</td>\n",
              "      <td>the next school year is the year for exams.ð...</td>\n",
              "    </tr>\n",
              "    <tr>\n",
              "      <th>9</th>\n",
              "      <td>0</td>\n",
              "      <td>we won!!! love the land!!! #allin #cavs #champ...</td>\n",
              "    </tr>\n",
              "    <tr>\n",
              "      <th>10</th>\n",
              "      <td>0</td>\n",
              "      <td>@user @user welcome here !  i'm   it's so #gr8 !</td>\n",
              "    </tr>\n",
              "  </tbody>\n",
              "</table>\n",
              "</div>"
            ],
            "text/plain": [
              "    label                                               text\n",
              "1       0   @user when a father is dysfunctional and is s...\n",
              "2       0  @user @user thanks for #lyft credit i can't us...\n",
              "3       0                                bihday your majesty\n",
              "4       0  #model   i love u take with u all the time in ...\n",
              "5       0             factsguide: society now    #motivation\n",
              "6       0  [2/2] huge fan fare and big talking before the...\n",
              "7       0   @user camping tomorrow @user @user @user @use...\n",
              "8       0  the next school year is the year for exams.ð...\n",
              "9       0  we won!!! love the land!!! #allin #cavs #champ...\n",
              "10      0   @user @user welcome here !  i'm   it's so #gr8 !"
            ]
          },
          "execution_count": 4,
          "metadata": {},
          "output_type": "execute_result"
        }
      ],
      "source": [
        "dfNonHate.head(10)"
      ]
    },
    {
      "cell_type": "code",
      "execution_count": 5,
      "metadata": {},
      "outputs": [
        {
          "data": {
            "text/html": [
              "<div>\n",
              "<style scoped>\n",
              "    .dataframe tbody tr th:only-of-type {\n",
              "        vertical-align: middle;\n",
              "    }\n",
              "\n",
              "    .dataframe tbody tr th {\n",
              "        vertical-align: top;\n",
              "    }\n",
              "\n",
              "    .dataframe thead th {\n",
              "        text-align: right;\n",
              "    }\n",
              "</style>\n",
              "<table border=\"1\" class=\"dataframe\">\n",
              "  <thead>\n",
              "    <tr style=\"text-align: right;\">\n",
              "      <th></th>\n",
              "      <th>label</th>\n",
              "      <th>text</th>\n",
              "    </tr>\n",
              "  </thead>\n",
              "  <tbody>\n",
              "    <tr>\n",
              "      <th>14</th>\n",
              "      <td>1</td>\n",
              "      <td>@user #cnn calls #michigan middle school 'buil...</td>\n",
              "    </tr>\n",
              "    <tr>\n",
              "      <th>15</th>\n",
              "      <td>1</td>\n",
              "      <td>no comment!  in #australia   #opkillingbay #se...</td>\n",
              "    </tr>\n",
              "    <tr>\n",
              "      <th>18</th>\n",
              "      <td>1</td>\n",
              "      <td>retweet if you agree!</td>\n",
              "    </tr>\n",
              "    <tr>\n",
              "      <th>24</th>\n",
              "      <td>1</td>\n",
              "      <td>@user @user lumpy says i am a . prove it lumpy.</td>\n",
              "    </tr>\n",
              "    <tr>\n",
              "      <th>35</th>\n",
              "      <td>1</td>\n",
              "      <td>it's unbelievable that in the 21st century we'...</td>\n",
              "    </tr>\n",
              "    <tr>\n",
              "      <th>57</th>\n",
              "      <td>1</td>\n",
              "      <td>@user lets fight against  #love #peace</td>\n",
              "    </tr>\n",
              "    <tr>\n",
              "      <th>69</th>\n",
              "      <td>1</td>\n",
              "      <td>ð©the white establishment can't have blk fol...</td>\n",
              "    </tr>\n",
              "    <tr>\n",
              "      <th>78</th>\n",
              "      <td>1</td>\n",
              "      <td>@user hey, white people: you can call people '...</td>\n",
              "    </tr>\n",
              "    <tr>\n",
              "      <th>83</th>\n",
              "      <td>1</td>\n",
              "      <td>how the #altright uses  &amp;amp; insecurity to lu...</td>\n",
              "    </tr>\n",
              "    <tr>\n",
              "      <th>112</th>\n",
              "      <td>1</td>\n",
              "      <td>@user i'm not interested in a #linguistics tha...</td>\n",
              "    </tr>\n",
              "  </tbody>\n",
              "</table>\n",
              "</div>"
            ],
            "text/plain": [
              "     label                                               text\n",
              "14       1  @user #cnn calls #michigan middle school 'buil...\n",
              "15       1  no comment!  in #australia   #opkillingbay #se...\n",
              "18       1                              retweet if you agree!\n",
              "24       1    @user @user lumpy says i am a . prove it lumpy.\n",
              "35       1  it's unbelievable that in the 21st century we'...\n",
              "57       1             @user lets fight against  #love #peace\n",
              "69       1  ð©the white establishment can't have blk fol...\n",
              "78       1  @user hey, white people: you can call people '...\n",
              "83       1  how the #altright uses  &amp; insecurity to lu...\n",
              "112      1  @user i'm not interested in a #linguistics tha..."
            ]
          },
          "execution_count": 5,
          "metadata": {},
          "output_type": "execute_result"
        }
      ],
      "source": [
        "dfHate.head(10)"
      ]
    },
    {
      "cell_type": "markdown",
      "metadata": {
        "id": "wh5ElluELRpO"
      },
      "source": [
        "### Train & test splits"
      ]
    },
    {
      "cell_type": "code",
      "execution_count": 6,
      "metadata": {
        "colab": {
          "base_uri": "https://localhost:8080/"
        },
        "id": "5b3l1zVuLRpO",
        "outputId": "b63960fe-cf9b-4368-e3e9-b18c4863e6c9"
      },
      "outputs": [
        {
          "name": "stdout",
          "output_type": "stream",
          "text": [
            "train data length: 7345\n",
            "test data length: 4897\n"
          ]
        }
      ],
      "source": [
        "X_train, X_test, y_train, y_test = train_test_split(df['text'], df['label'], test_size=0.4, random_state=42)\n",
        "\n",
        "print('train data length:', len(X_train))\n",
        "print('test data length:', len(X_test))"
      ]
    },
    {
      "cell_type": "code",
      "execution_count": 7,
      "metadata": {},
      "outputs": [
        {
          "data": {
            "text/html": [
              "<div>\n",
              "<style scoped>\n",
              "    .dataframe tbody tr th:only-of-type {\n",
              "        vertical-align: middle;\n",
              "    }\n",
              "\n",
              "    .dataframe tbody tr th {\n",
              "        vertical-align: top;\n",
              "    }\n",
              "\n",
              "    .dataframe thead th {\n",
              "        text-align: right;\n",
              "    }\n",
              "</style>\n",
              "<table border=\"1\" class=\"dataframe\">\n",
              "  <thead>\n",
              "    <tr style=\"text-align: right;\">\n",
              "      <th></th>\n",
              "      <th>text</th>\n",
              "      <th>label</th>\n",
              "    </tr>\n",
              "  </thead>\n",
              "  <tbody>\n",
              "    <tr>\n",
              "      <th>0</th>\n",
              "      <td>keeping to my happiness goals for the month - ...</td>\n",
              "      <td>0</td>\n",
              "    </tr>\n",
              "    <tr>\n",
              "      <th>1</th>\n",
              "      <td>@user as a huge @user fan i'm excited for liv...</td>\n",
              "      <td>0</td>\n",
              "    </tr>\n",
              "    <tr>\n",
              "      <th>2</th>\n",
              "      <td>ððlove girlsðð   #bihday #yuiko#pa...</td>\n",
              "      <td>0</td>\n",
              "    </tr>\n",
              "    <tr>\n",
              "      <th>3</th>\n",
              "      <td>this much #hatred, #xenophobia, #islamophobia,...</td>\n",
              "      <td>1</td>\n",
              "    </tr>\n",
              "    <tr>\n",
              "      <th>4</th>\n",
              "      <td>@user can't wait... excited to watch lemans th...</td>\n",
              "      <td>0</td>\n",
              "    </tr>\n",
              "  </tbody>\n",
              "</table>\n",
              "</div>"
            ],
            "text/plain": [
              "                                                text  label\n",
              "0  keeping to my happiness goals for the month - ...      0\n",
              "1   @user as a huge @user fan i'm excited for liv...      0\n",
              "2  ððlove girlsðð   #bihday #yuiko#pa...      0\n",
              "3  this much #hatred, #xenophobia, #islamophobia,...      1\n",
              "4  @user can't wait... excited to watch lemans th...      0"
            ]
          },
          "execution_count": 7,
          "metadata": {},
          "output_type": "execute_result"
        }
      ],
      "source": [
        "dfTrain = pd.DataFrame(list(zip(X_train, y_train)), columns =['text', 'label'])\n",
        "dfTrain.head()"
      ]
    },
    {
      "cell_type": "code",
      "execution_count": 8,
      "metadata": {},
      "outputs": [
        {
          "data": {
            "text/html": [
              "<div>\n",
              "<style scoped>\n",
              "    .dataframe tbody tr th:only-of-type {\n",
              "        vertical-align: middle;\n",
              "    }\n",
              "\n",
              "    .dataframe tbody tr th {\n",
              "        vertical-align: top;\n",
              "    }\n",
              "\n",
              "    .dataframe thead th {\n",
              "        text-align: right;\n",
              "    }\n",
              "</style>\n",
              "<table border=\"1\" class=\"dataframe\">\n",
              "  <thead>\n",
              "    <tr style=\"text-align: right;\">\n",
              "      <th></th>\n",
              "      <th>text</th>\n",
              "      <th>label</th>\n",
              "    </tr>\n",
              "  </thead>\n",
              "  <tbody>\n",
              "    <tr>\n",
              "      <th>0</th>\n",
              "      <td>i worked to had for this #highschoolgraduation...</td>\n",
              "      <td>0</td>\n",
              "    </tr>\n",
              "    <tr>\n",
              "      <th>1</th>\n",
              "      <td>so proud to have a mayor like @user who isnt a...</td>\n",
              "      <td>1</td>\n",
              "    </tr>\n",
              "    <tr>\n",
              "      <th>2</th>\n",
              "      <td>#bihday #shout #out to my broda @user smile ...</td>\n",
              "      <td>0</td>\n",
              "    </tr>\n",
              "    <tr>\n",
              "      <th>3</th>\n",
              "      <td>i am wholesome. #i_am #positive #affirmation</td>\n",
              "      <td>0</td>\n",
              "    </tr>\n",
              "    <tr>\n",
              "      <th>4</th>\n",
              "      <td>#nazi #swastika #ebay! #trump #donaldtrump #re...</td>\n",
              "      <td>1</td>\n",
              "    </tr>\n",
              "  </tbody>\n",
              "</table>\n",
              "</div>"
            ],
            "text/plain": [
              "                                                text  label\n",
              "0  i worked to had for this #highschoolgraduation...      0\n",
              "1  so proud to have a mayor like @user who isnt a...      1\n",
              "2    #bihday #shout #out to my broda @user smile ...      0\n",
              "3       i am wholesome. #i_am #positive #affirmation      0\n",
              "4  #nazi #swastika #ebay! #trump #donaldtrump #re...      1"
            ]
          },
          "execution_count": 8,
          "metadata": {},
          "output_type": "execute_result"
        }
      ],
      "source": [
        "dfTest = pd.DataFrame(list(zip(X_test, y_test)), columns =['text', 'label'])\n",
        "dfTest.head()"
      ]
    },
    {
      "cell_type": "code",
      "execution_count": 9,
      "metadata": {},
      "outputs": [],
      "source": [
        "def print_confusion_matrix(y_true, y_pred, title):\n",
        "    title += \"    f1: \" + \"{:.2f}\".format(f1_score(y_test, y_pred, average=\"macro\"))\n",
        "    matrix = confusion_matrix(y_true, y_pred)\n",
        "    seaborn.heatmap(matrix, annot=True, fmt='g')\n",
        "    plt.title(title)"
      ]
    },
    {
      "cell_type": "markdown",
      "metadata": {},
      "source": [
        "### BERTs"
      ]
    },
    {
      "cell_type": "markdown",
      "metadata": {
        "id": "R6sHSTM3LRpV"
      },
      "source": [
        "##### Pre-trained Models - Model 1"
      ]
    },
    {
      "cell_type": "code",
      "execution_count": 10,
      "metadata": {
        "id": "6k4l-1EPLRpV",
        "outputId": "e5287dcf-b607-4a37-d92b-bf9ae1993e3a"
      },
      "outputs": [
        {
          "name": "stderr",
          "output_type": "stream",
          "text": [
            "Device set to use cpu\n"
          ]
        }
      ],
      "source": [
        "# source: https://huggingface.co/patrickquick/BERTicelli?text=Keep+up+the+good+hard+work.\n",
        "\n",
        "tokenizer1 = AutoTokenizer.from_pretrained(\"patrickquick/BERTicelli\")\n",
        "model1 = AutoModelForSequenceClassification.from_pretrained(\"patrickquick/BERTicelli\")\n",
        "classifier1 = pipeline(\"text-classification\", model=model1, tokenizer=tokenizer1)"
      ]
    },
    {
      "cell_type": "code",
      "execution_count": 13,
      "metadata": {
        "id": "pmJ9yNvaLRpV"
      },
      "outputs": [],
      "source": [
        "y_pred = [0 if classifier1(sentence)[0]['label'] == 'NOT' else 1 for sentence in dfTest['text']]"
      ]
    },
    {
      "cell_type": "code",
      "execution_count": 14,
      "metadata": {
        "id": "8K3f4zcILRpV",
        "outputId": "eaa9f36b-f4f3-4ee0-a965-47d9363b6f76"
      },
      "outputs": [
        {
          "name": "stdout",
          "output_type": "stream",
          "text": [
            "              precision    recall  f1-score   support\n",
            "\n",
            "           0       0.85      0.92      0.89      4021\n",
            "           1       0.43      0.26      0.32       876\n",
            "\n",
            "    accuracy                           0.80      4897\n",
            "   macro avg       0.64      0.59      0.60      4897\n",
            "weighted avg       0.78      0.80      0.79      4897\n",
            "\n"
          ]
        }
      ],
      "source": [
        "print(classification_report(y_test, y_pred, zero_division=0))"
      ]
    },
    {
      "cell_type": "code",
      "execution_count": 15,
      "metadata": {
        "id": "bSlQN-FBLRpV",
        "outputId": "15d5922b-cb3f-4c7d-bb56-26b735b72163"
      },
      "outputs": [
        {
          "data": {
            "image/png": "[encoded data removed]",
            "text/plain": [
              "<Figure size 640x480 with 2 Axes>"
            ]
          },
          "metadata": {},
          "output_type": "display_data"
        }
      ],
      "source": [
        "print_confusion_matrix(y_test, y_pred, \"First pretrained model\")"
      ]
    },
    {
      "cell_type": "markdown",
      "metadata": {
        "id": "UHZJzvsBLRpV"
      },
      "source": [
        "##### Pre-trained Models - Model 2"
      ]
    },
    {
      "cell_type": "code",
      "execution_count": 17,
      "metadata": {
        "id": "zu78rUf9LRpW"
      },
      "outputs": [
        {
          "name": "stderr",
          "output_type": "stream",
          "text": [
            "C:\\Users\\Adi\\AppData\\Roaming\\Python\\Python312\\site-packages\\huggingface_hub\\file_download.py:140: UserWarning: `huggingface_hub` cache-system uses symlinks by default to efficiently store duplicated files but your machine does not support them in C:\\Users\\Adi\\.cache\\huggingface\\hub\\models--MilaNLProc--bert-base-uncased-ear-mlma. Caching files will still work but in a degraded version that might require more space on your disk. This warning can be disabled by setting the `HF_HUB_DISABLE_SYMLINKS_WARNING` environment variable. For more details, see https://huggingface.co/docs/huggingface_hub/how-to-cache#limitations.\n",
            "To support symlinks on Windows, you either need to activate Developer Mode or to run Python as an administrator. In order to activate developer mode, see this article: https://docs.microsoft.com/en-us/windows/apps/get-started/enable-your-device-for-development\n",
            "  warnings.warn(message)\n",
            "Device set to use cpu\n"
          ]
        }
      ],
      "source": [
        "# source: https://huggingface.co/MilaNLProc/bert-base-uncased-ear-mlma\n",
        "\n",
        "tokenizer2 = AutoTokenizer.from_pretrained(\"MilaNLProc/bert-base-uncased-ear-mlma\")\n",
        "model2 = AutoModelForSequenceClassification.from_pretrained(\"MilaNLProc/bert-base-uncased-ear-mlma\")\n",
        "classifier2 = pipeline(\"text-classification\", model=model2, tokenizer=tokenizer2)"
      ]
    },
    {
      "cell_type": "code",
      "execution_count": 18,
      "metadata": {
        "id": "ekLRCuDLLRpW"
      },
      "outputs": [],
      "source": [
        "y_pred = [0 if classifier2(sentence)[0]['label'] == 'non-hateful' else 1 for sentence in dfTest['text']]"
      ]
    },
    {
      "cell_type": "code",
      "execution_count": 19,
      "metadata": {
        "id": "iQ9Pq2QwLRpW",
        "outputId": "b97b2c0e-1f5d-472c-9344-83c415a0a16b"
      },
      "outputs": [
        {
          "name": "stdout",
          "output_type": "stream",
          "text": [
            "              precision    recall  f1-score   support\n",
            "\n",
            "           0       0.91      0.49      0.63      4021\n",
            "           1       0.25      0.77      0.37       876\n",
            "\n",
            "    accuracy                           0.54      4897\n",
            "   macro avg       0.58      0.63      0.50      4897\n",
            "weighted avg       0.79      0.54      0.59      4897\n",
            "\n"
          ]
        }
      ],
      "source": [
        "print(classification_report(y_test, y_pred, zero_division=0))"
      ]
    },
    {
      "cell_type": "code",
      "execution_count": 20,
      "metadata": {
        "id": "fPYaZn9GLRpW",
        "outputId": "ce5dee0c-e1e1-45a4-b733-353903d737a3"
      },
      "outputs": [
        {
          "data": {
            "image/png": "[encoded data removed]",
            "text/plain": [
              "<Figure size 640x480 with 2 Axes>"
            ]
          },
          "metadata": {},
          "output_type": "display_data"
        }
      ],
      "source": [
        "print_confusion_matrix(y_test, y_pred, \"Second pretrained model\")"
      ]
    },
    {
      "cell_type": "markdown",
      "metadata": {
        "id": "ftYBA7VDLRpW"
      },
      "source": [
        "##### Pre-trained Models - Model 3"
      ]
    },
    {
      "cell_type": "code",
      "execution_count": 21,
      "metadata": {
        "id": "9hc6k_deLRpW"
      },
      "outputs": [
        {
          "name": "stderr",
          "output_type": "stream",
          "text": [
            "C:\\Users\\Adi\\AppData\\Roaming\\Python\\Python312\\site-packages\\huggingface_hub\\file_download.py:140: UserWarning: `huggingface_hub` cache-system uses symlinks by default to efficiently store duplicated files but your machine does not support them in C:\\Users\\Adi\\.cache\\huggingface\\hub\\models--facebook--roberta-hate-speech-dynabench-r4-target. Caching files will still work but in a degraded version that might require more space on your disk. This warning can be disabled by setting the `HF_HUB_DISABLE_SYMLINKS_WARNING` environment variable. For more details, see https://huggingface.co/docs/huggingface_hub/how-to-cache#limitations.\n",
            "To support symlinks on Windows, you either need to activate Developer Mode or to run Python as an administrator. In order to activate developer mode, see this article: https://docs.microsoft.com/en-us/windows/apps/get-started/enable-your-device-for-development\n",
            "  warnings.warn(message)\n",
            "Device set to use cpu\n"
          ]
        }
      ],
      "source": [
        "# source: https://huggingface.co/facebook/roberta-hate-speech-dynabench-r4-target\n",
        "\n",
        "tokenizer3 = AutoTokenizer.from_pretrained(\"facebook/roberta-hate-speech-dynabench-r4-target\")\n",
        "model3 = AutoModelForSequenceClassification.from_pretrained(\"facebook/roberta-hate-speech-dynabench-r4-target\")\n",
        "classifier3 = pipeline(\"text-classification\", model=model3, tokenizer=tokenizer3)"
      ]
    },
    {
      "cell_type": "code",
      "execution_count": 22,
      "metadata": {
        "id": "Aa6NFCPkLRpW"
      },
      "outputs": [],
      "source": [
        "y_pred = [0 if classifier3(sentence)[0]['label'] == 'nothate' else 1 for sentence in dfTest['text']]"
      ]
    },
    {
      "cell_type": "code",
      "execution_count": 23,
      "metadata": {
        "id": "JAAlu6EDLRpW",
        "outputId": "89ecaa8b-7c21-46d8-92a0-de5bef8cfadc"
      },
      "outputs": [
        {
          "name": "stdout",
          "output_type": "stream",
          "text": [
            "              precision    recall  f1-score   support\n",
            "\n",
            "           0       0.85      0.96      0.90      4021\n",
            "           1       0.53      0.19      0.28       876\n",
            "\n",
            "    accuracy                           0.82      4897\n",
            "   macro avg       0.69      0.58      0.59      4897\n",
            "weighted avg       0.79      0.82      0.79      4897\n",
            "\n"
          ]
        }
      ],
      "source": [
        "print(classification_report(y_test, y_pred, zero_division=0))"
      ]
    },
    {
      "cell_type": "code",
      "execution_count": 24,
      "metadata": {
        "id": "gVd_eX3TLRpW",
        "outputId": "627314a7-ca6c-470f-f76c-70d35c43c0cd"
      },
      "outputs": [
        {
          "data": {
            "image/png": "[encoded data removed]",
            "text/plain": [
              "<Figure size 640x480 with 2 Axes>"
            ]
          },
          "metadata": {},
          "output_type": "display_data"
        }
      ],
      "source": [
        "print_confusion_matrix(y_test, y_pred, \"Third pretrained model\")"
      ]
    },
    {
      "cell_type": "markdown",
      "metadata": {
        "id": "ZW1JT7YALRpX"
      },
      "source": [
        "##### Pre-trained Models - Model 4"
      ]
    },
    {
      "cell_type": "code",
      "execution_count": 25,
      "metadata": {
        "id": "hEGI6SHbLRpX"
      },
      "outputs": [
        {
          "name": "stderr",
          "output_type": "stream",
          "text": [
            "C:\\Users\\Adi\\AppData\\Roaming\\Python\\Python312\\site-packages\\huggingface_hub\\file_download.py:140: UserWarning: `huggingface_hub` cache-system uses symlinks by default to efficiently store duplicated files but your machine does not support them in C:\\Users\\Adi\\.cache\\huggingface\\hub\\models--Hate-speech-CNERG--bert-base-uncased-hatexplain. Caching files will still work but in a degraded version that might require more space on your disk. This warning can be disabled by setting the `HF_HUB_DISABLE_SYMLINKS_WARNING` environment variable. For more details, see https://huggingface.co/docs/huggingface_hub/how-to-cache#limitations.\n",
            "To support symlinks on Windows, you either need to activate Developer Mode or to run Python as an administrator. In order to activate developer mode, see this article: https://docs.microsoft.com/en-us/windows/apps/get-started/enable-your-device-for-development\n",
            "  warnings.warn(message)\n",
            "Device set to use cpu\n"
          ]
        }
      ],
      "source": [
        "# source: https://huggingface.co/Hate-speech-CNERG/bert-base-uncased-hatexplain\n",
        "\n",
        "tokenizer4 = AutoTokenizer.from_pretrained(\"Hate-speech-CNERG/bert-base-uncased-hatexplain\")\n",
        "model4 = AutoModelForSequenceClassification.from_pretrained(\"Hate-speech-CNERG/bert-base-uncased-hatexplain\")\n",
        "classifier4 = pipeline(\"text-classification\", model=model4, tokenizer=tokenizer4)"
      ]
    },
    {
      "cell_type": "code",
      "execution_count": 26,
      "metadata": {
        "id": "bs_D9n-HLRpX"
      },
      "outputs": [
        {
          "name": "stderr",
          "output_type": "stream",
          "text": [
            "BertSdpaSelfAttention is used but `torch.nn.functional.scaled_dot_product_attention` does not support non-absolute `position_embedding_type` or `output_attentions=True` or `head_mask`. Falling back to the manual attention implementation, but specifying the manual implementation will be required from Transformers version v5.0.0 onwards. This warning can be removed using the argument `attn_implementation=\"eager\"` when loading the model.\n"
          ]
        }
      ],
      "source": [
        "y_pred = [0 if classifier4(sentence)[0]['label'] == 'normal' else 1 for sentence in dfTest['text']]"
      ]
    },
    {
      "cell_type": "code",
      "execution_count": 27,
      "metadata": {
        "id": "cjqFA329LRpX",
        "outputId": "edd43b0e-a3e2-48dc-c3ff-ccfb8d6da0d4"
      },
      "outputs": [
        {
          "name": "stdout",
          "output_type": "stream",
          "text": [
            "              precision    recall  f1-score   support\n",
            "\n",
            "           0       0.83      0.98      0.90      4021\n",
            "           1       0.51      0.07      0.13       876\n",
            "\n",
            "    accuracy                           0.82      4897\n",
            "   macro avg       0.67      0.53      0.51      4897\n",
            "weighted avg       0.77      0.82      0.76      4897\n",
            "\n"
          ]
        }
      ],
      "source": [
        "print(classification_report(y_test, y_pred, zero_division=0))"
      ]
    },
    {
      "cell_type": "code",
      "execution_count": 28,
      "metadata": {
        "id": "WZvMuSCRLRpX",
        "outputId": "4c4a7144-502a-43fa-a420-76216924bc24"
      },
      "outputs": [
        {
          "data": {
            "image/png": "[encoded data removed]",
            "text/plain": [
              "<Figure size 640x480 with 2 Axes>"
            ]
          },
          "metadata": {},
          "output_type": "display_data"
        }
      ],
      "source": [
        "print_confusion_matrix(y_test, y_pred, \"Fourth pretrained model\")"
      ]
    },
    {
      "cell_type": "markdown",
      "metadata": {
        "id": "rXc56CvXLRpX"
      },
      "source": [
        "##### Pre-trained Models - Model 5"
      ]
    },
    {
      "cell_type": "code",
      "execution_count": 29,
      "metadata": {
        "id": "GHMkkcXELRpX"
      },
      "outputs": [
        {
          "name": "stderr",
          "output_type": "stream",
          "text": [
            "C:\\Users\\Adi\\AppData\\Roaming\\Python\\Python312\\site-packages\\huggingface_hub\\file_download.py:140: UserWarning: `huggingface_hub` cache-system uses symlinks by default to efficiently store duplicated files but your machine does not support them in C:\\Users\\Adi\\.cache\\huggingface\\hub\\models--Hate-speech-CNERG--dehatebert-mono-english. Caching files will still work but in a degraded version that might require more space on your disk. This warning can be disabled by setting the `HF_HUB_DISABLE_SYMLINKS_WARNING` environment variable. For more details, see https://huggingface.co/docs/huggingface_hub/how-to-cache#limitations.\n",
            "To support symlinks on Windows, you either need to activate Developer Mode or to run Python as an administrator. In order to activate developer mode, see this article: https://docs.microsoft.com/en-us/windows/apps/get-started/enable-your-device-for-development\n",
            "  warnings.warn(message)\n",
            "Device set to use cpu\n"
          ]
        }
      ],
      "source": [
        "# source: https://huggingface.co/Hate-speech-CNERG/dehatebert-mono-english\n",
        "\n",
        "tokenizer5 = AutoTokenizer.from_pretrained(\"Hate-speech-CNERG/dehatebert-mono-english\")\n",
        "model5 = AutoModelForSequenceClassification.from_pretrained(\"Hate-speech-CNERG/dehatebert-mono-english\")\n",
        "classifier5 = pipeline(\"text-classification\", model=model5, tokenizer=tokenizer5)"
      ]
    },
    {
      "cell_type": "code",
      "execution_count": 30,
      "metadata": {
        "id": "A9eQxYS1LRpY"
      },
      "outputs": [],
      "source": [
        "y_pred = [0 if classifier5(sentence)[0]['label'] == 'NON_HATE' else 1 for sentence in dfTest['text']]"
      ]
    },
    {
      "cell_type": "code",
      "execution_count": 31,
      "metadata": {
        "id": "7UWjxZcOLRpY",
        "outputId": "d97e9fd8-8ffa-489e-b142-c771612e56f9"
      },
      "outputs": [
        {
          "name": "stdout",
          "output_type": "stream",
          "text": [
            "              precision    recall  f1-score   support\n",
            "\n",
            "           0       0.86      0.84      0.85      4021\n",
            "           1       0.34      0.38      0.36       876\n",
            "\n",
            "    accuracy                           0.76      4897\n",
            "   macro avg       0.60      0.61      0.60      4897\n",
            "weighted avg       0.77      0.76      0.76      4897\n",
            "\n"
          ]
        }
      ],
      "source": [
        "print(classification_report(y_test, y_pred, zero_division=0))"
      ]
    },
    {
      "cell_type": "code",
      "execution_count": 32,
      "metadata": {
        "id": "ZhGgXzieLRpY",
        "outputId": "3c8c67dc-6321-45f9-a352-50cc30809d99"
      },
      "outputs": [
        {
          "data": {
            "image/png": "[encoded data removed]",
            "text/plain": [
              "<Figure size 640x480 with 2 Axes>"
            ]
          },
          "metadata": {},
          "output_type": "display_data"
        }
      ],
      "source": [
        "print_confusion_matrix(y_test, y_pred, \"Fifth pretrained model\")"
      ]
    },
    {
      "cell_type": "markdown",
      "metadata": {},
      "source": [
        "### Fine-tuned BERTs"
      ]
    },
    {
      "cell_type": "code",
      "execution_count": 11,
      "metadata": {},
      "outputs": [],
      "source": [
        "# Convert to PyTorch datasets\n",
        "class CustomDataset(torch.utils.data.Dataset):\n",
        "    def __init__(self, encodings, labels):\n",
        "        self.encodings = encodings\n",
        "        self.labels = labels\n",
        "\n",
        "    def __getitem__(self, idx):\n",
        "        item = {key: torch.tensor(val[idx]) for key, val in self.encodings.items()}\n",
        "        item['labels'] = torch.tensor(self.labels[idx])\n",
        "        return item\n",
        "\n",
        "    def __len__(self):\n",
        "        return len(self.labels)"
      ]
    },
    {
      "cell_type": "markdown",
      "metadata": {},
      "source": [
        "##### Fine-tuned BERT Model 1"
      ]
    },
    {
      "cell_type": "code",
      "execution_count": 24,
      "metadata": {},
      "outputs": [],
      "source": [
        "# source: https://huggingface.co/patrickquick/BERTicelli?text=Keep+up+the+good+hard+work.\n",
        "\n",
        "# Tokenize the texts\n",
        "tokenizer1 = AutoTokenizer.from_pretrained(\"patrickquick/BERTicelli\")\n",
        "\n",
        "train_encodings = tokenizer1(X_train.tolist(), truncation=True, padding=True, max_length=128)\n",
        "test_encodings = tokenizer1(X_test.tolist(), truncation=True, padding=True, max_length=128)\n",
        "\n",
        "train_dataset = CustomDataset(train_encodings, y_train.tolist())\n",
        "test_dataset = CustomDataset(test_encodings, y_test.tolist())"
      ]
    },
    {
      "cell_type": "code",
      "execution_count": 27,
      "metadata": {},
      "outputs": [],
      "source": [
        "# Load the pre-trained model\n",
        "model1 = AutoModelForSequenceClassification.from_pretrained(\"patrickquick/BERTicelli\", num_labels=2)\n",
        "\n",
        "# Define training arguments\n",
        "training_args = TrainingArguments(\n",
        "    output_dir='./results1',\n",
        "    num_train_epochs=3,        \n",
        "    per_device_train_batch_size=16,\n",
        "    per_device_eval_batch_size=64, \n",
        "    warmup_steps=500,              \n",
        "    weight_decay=0.01, \n",
        "    logging_dir='./logs1',           \n",
        "    logging_steps=10,             \n",
        "    evaluation_strategy=\"epoch\",   \n",
        "    save_strategy=\"epoch\",         \n",
        "    load_best_model_at_end=True,   \n",
        ")\n",
        "\n",
        "# Define the Trainer\n",
        "trainer = Trainer(\n",
        "    model=model1,                       \n",
        "    args=training_args,              \n",
        "    train_dataset=train_dataset,       \n",
        "    eval_dataset=test_dataset        \n",
        ")"
      ]
    },
    {
      "cell_type": "code",
      "execution_count": 28,
      "metadata": {},
      "outputs": [
        {
          "data": {
            "text/html": [
              "\n",
              "    <div>\n",
              "      \n",
              "      <progress value='1380' max='1380' style='width:300px; height:20px; vertical-align: middle;'></progress>\n",
              "      [1380/1380 1:06:19, Epoch 3/3]\n",
              "    </div>\n",
              "    <table border=\"1\" class=\"dataframe\">\n",
              "  <thead>\n",
              " <tr style=\"text-align: left;\">\n",
              "      <th>Epoch</th>\n",
              "      <th>Training Loss</th>\n",
              "      <th>Validation Loss</th>\n",
              "    </tr>\n",
              "  </thead>\n",
              "  <tbody>\n",
              "    <tr>\n",
              "      <td>1</td>\n",
              "      <td>0.283500</td>\n",
              "      <td>0.233395</td>\n",
              "    </tr>\n",
              "    <tr>\n",
              "      <td>2</td>\n",
              "      <td>0.217800</td>\n",
              "      <td>0.234781</td>\n",
              "    </tr>\n",
              "    <tr>\n",
              "      <td>3</td>\n",
              "      <td>0.008100</td>\n",
              "      <td>0.290950</td>\n",
              "    </tr>\n",
              "  </tbody>\n",
              "</table><p>"
            ],
            "text/plain": [
              "<IPython.core.display.HTML object>"
            ]
          },
          "metadata": {},
          "output_type": "display_data"
        },
        {
          "data": {
            "text/html": [],
            "text/plain": [
              "<IPython.core.display.HTML object>"
            ]
          },
          "metadata": {},
          "output_type": "display_data"
        },
        {
          "name": "stdout",
          "output_type": "stream",
          "text": [
            "{'eval_loss': 0.2333950698375702, 'eval_runtime': 247.8108, 'eval_samples_per_second': 19.761, 'eval_steps_per_second': 0.311, 'epoch': 3.0}\n"
          ]
        }
      ],
      "source": [
        "# Fine-tune the model\n",
        "trainer.train()\n",
        "\n",
        "# Evaluate the model on the test set\n",
        "results1 = trainer.evaluate()\n",
        "print(results1)"
      ]
    },
    {
      "cell_type": "code",
      "execution_count": 29,
      "metadata": {},
      "outputs": [
        {
          "data": {
            "text/plain": [
              "('./fine-tuned-model1\\\\tokenizer_config.json',\n",
              " './fine-tuned-model1\\\\special_tokens_map.json',\n",
              " './fine-tuned-model1\\\\vocab.txt',\n",
              " './fine-tuned-model1\\\\added_tokens.json',\n",
              " './fine-tuned-model1\\\\tokenizer.json')"
            ]
          },
          "execution_count": 29,
          "metadata": {},
          "output_type": "execute_result"
        }
      ],
      "source": [
        "# Save the model and tokenizer\n",
        "model1.save_pretrained('./fine-tuned-model1')\n",
        "tokenizer1.save_pretrained('./fine-tuned-model1')"
      ]
    },
    {
      "cell_type": "code",
      "execution_count": 30,
      "metadata": {},
      "outputs": [],
      "source": [
        "# Generate predictions on the test set\n",
        "predictions = trainer.predict(test_dataset)\n",
        "y_pred = predictions.predictions.argmax(-1)"
      ]
    },
    {
      "cell_type": "code",
      "execution_count": 31,
      "metadata": {},
      "outputs": [
        {
          "name": "stdout",
          "output_type": "stream",
          "text": [
            "              precision    recall  f1-score   support\n",
            "\n",
            "           0       0.95      0.96      0.95      4021\n",
            "           1       0.80      0.76      0.78       876\n",
            "\n",
            "    accuracy                           0.92      4897\n",
            "   macro avg       0.87      0.86      0.87      4897\n",
            "weighted avg       0.92      0.92      0.92      4897\n",
            "\n"
          ]
        }
      ],
      "source": [
        "print(classification_report(y_test, y_pred, zero_division=0))"
      ]
    },
    {
      "cell_type": "code",
      "execution_count": 32,
      "metadata": {},
      "outputs": [
        {
          "data": {
            "image/png": "[encoded data removed]",
            "text/plain": [
              "<Figure size 640x480 with 2 Axes>"
            ]
          },
          "metadata": {},
          "output_type": "display_data"
        }
      ],
      "source": [
        "print_confusion_matrix(y_test, y_pred, \"Fine-tuned model 1\")"
      ]
    },
    {
      "cell_type": "markdown",
      "metadata": {},
      "source": [
        "##### Fine-tuned BERT Model 5"
      ]
    },
    {
      "cell_type": "code",
      "execution_count": null,
      "metadata": {},
      "outputs": [],
      "source": [
        "# source: https://huggingface.co/Hate-speech-CNERG/dehatebert-mono-english\n",
        "\n",
        "# Tokenize the texts\n",
        "tokenizer5 = AutoTokenizer.from_pretrained(\"Hate-speech-CNERG/dehatebert-mono-english\")\n",
        "\n",
        "train_encodings = tokenizer5(X_train.tolist(), truncation=True, padding=True, max_length=128)\n",
        "test_encodings = tokenizer5(X_test.tolist(), truncation=True, padding=True, max_length=128)\n",
        "\n",
        "train_dataset = CustomDataset(train_encodings, y_train.tolist())\n",
        "test_dataset = CustomDataset(test_encodings, y_test.tolist())"
      ]
    },
    {
      "cell_type": "code",
      "execution_count": null,
      "metadata": {},
      "outputs": [
        {
          "name": "stderr",
          "output_type": "stream",
          "text": [
            "C:\\Users\\Adi\\AppData\\Roaming\\Python\\Python312\\site-packages\\transformers\\training_args.py:1575: FutureWarning: `evaluation_strategy` is deprecated and will be removed in version 4.46 of 🤗 Transformers. Use `eval_strategy` instead\n",
            "  warnings.warn(\n"
          ]
        }
      ],
      "source": [
        "# Load the pre-trained model\n",
        "model5 = AutoModelForSequenceClassification.from_pretrained(\"Hate-speech-CNERG/dehatebert-mono-english\", num_labels=2)\n",
        "\n",
        "# Define training arguments\n",
        "training_args = TrainingArguments(\n",
        "    output_dir='./results',    \n",
        "    num_train_epochs=3,        \n",
        "    per_device_train_batch_size=16,\n",
        "    per_device_eval_batch_size=64, \n",
        "    warmup_steps=500,              \n",
        "    weight_decay=0.01,           \n",
        "    logging_dir='./logs',        \n",
        "    logging_steps=10,             \n",
        "    evaluation_strategy=\"epoch\",   \n",
        "    save_strategy=\"epoch\",         \n",
        "    load_best_model_at_end=True,   \n",
        ")\n",
        "\n",
        "# Define the Trainer\n",
        "trainer = Trainer(\n",
        "    model=model5,                       \n",
        "    args=training_args,              \n",
        "    train_dataset=train_dataset,       \n",
        "    eval_dataset=test_dataset        \n",
        ")"
      ]
    },
    {
      "cell_type": "code",
      "execution_count": 13,
      "metadata": {},
      "outputs": [
        {
          "data": {
            "text/html": [
              "\n",
              "    <div>\n",
              "      \n",
              "      <progress value='1380' max='1380' style='width:300px; height:20px; vertical-align: middle;'></progress>\n",
              "      [1380/1380 1:17:16, Epoch 3/3]\n",
              "    </div>\n",
              "    <table border=\"1\" class=\"dataframe\">\n",
              "  <thead>\n",
              " <tr style=\"text-align: left;\">\n",
              "      <th>Epoch</th>\n",
              "      <th>Training Loss</th>\n",
              "      <th>Validation Loss</th>\n",
              "    </tr>\n",
              "  </thead>\n",
              "  <tbody>\n",
              "    <tr>\n",
              "      <td>1</td>\n",
              "      <td>0.292800</td>\n",
              "      <td>0.252511</td>\n",
              "    </tr>\n",
              "    <tr>\n",
              "      <td>2</td>\n",
              "      <td>0.203800</td>\n",
              "      <td>0.258996</td>\n",
              "    </tr>\n",
              "    <tr>\n",
              "      <td>3</td>\n",
              "      <td>0.122800</td>\n",
              "      <td>0.260027</td>\n",
              "    </tr>\n",
              "  </tbody>\n",
              "</table><p>"
            ],
            "text/plain": [
              "<IPython.core.display.HTML object>"
            ]
          },
          "metadata": {},
          "output_type": "display_data"
        },
        {
          "data": {
            "text/html": [],
            "text/plain": [
              "<IPython.core.display.HTML object>"
            ]
          },
          "metadata": {},
          "output_type": "display_data"
        },
        {
          "name": "stdout",
          "output_type": "stream",
          "text": [
            "{'eval_loss': 0.25251081585884094, 'eval_runtime': 178.0766, 'eval_samples_per_second': 27.499, 'eval_steps_per_second': 0.432, 'epoch': 3.0}\n"
          ]
        }
      ],
      "source": [
        "# Fine-tune the model\n",
        "trainer.train()\n",
        "\n",
        "# Evaluate the model on the test set\n",
        "results5 = trainer.evaluate()\n",
        "print(results5)"
      ]
    },
    {
      "cell_type": "code",
      "execution_count": 20,
      "metadata": {},
      "outputs": [
        {
          "data": {
            "text/plain": [
              "('./fine-tuned-model5\\\\tokenizer_config.json',\n",
              " './fine-tuned-model5\\\\special_tokens_map.json',\n",
              " './fine-tuned-model5\\\\vocab.txt',\n",
              " './fine-tuned-model5\\\\added_tokens.json',\n",
              " './fine-tuned-model5\\\\tokenizer.json')"
            ]
          },
          "execution_count": 20,
          "metadata": {},
          "output_type": "execute_result"
        }
      ],
      "source": [
        "# Save the model and tokenizer\n",
        "model5.save_pretrained('./fine-tuned-model5')\n",
        "tokenizer5.save_pretrained('./fine-tuned-model5')"
      ]
    },
    {
      "cell_type": "code",
      "execution_count": 21,
      "metadata": {},
      "outputs": [
        {
          "data": {
            "text/html": [],
            "text/plain": [
              "<IPython.core.display.HTML object>"
            ]
          },
          "metadata": {},
          "output_type": "display_data"
        }
      ],
      "source": [
        "# Generate predictions on the test set\n",
        "predictions = trainer.predict(test_dataset)\n",
        "y_pred = predictions.predictions.argmax(-1)"
      ]
    },
    {
      "cell_type": "code",
      "execution_count": 22,
      "metadata": {},
      "outputs": [
        {
          "name": "stdout",
          "output_type": "stream",
          "text": [
            "              precision    recall  f1-score   support\n",
            "\n",
            "           0       0.94      0.95      0.94      4021\n",
            "           1       0.75      0.74      0.75       876\n",
            "\n",
            "    accuracy                           0.91      4897\n",
            "   macro avg       0.85      0.84      0.85      4897\n",
            "weighted avg       0.91      0.91      0.91      4897\n",
            "\n"
          ]
        }
      ],
      "source": [
        "print(classification_report(y_test, y_pred, zero_division=0))"
      ]
    },
    {
      "cell_type": "code",
      "execution_count": 23,
      "metadata": {},
      "outputs": [
        {
          "data": {
            "image/png": "[encoded data removed]",
            "text/plain": [
              "<Figure size 640x480 with 2 Axes>"
            ]
          },
          "metadata": {},
          "output_type": "display_data"
        }
      ],
      "source": [
        "print_confusion_matrix(y_test, y_pred, \"Fine-tuned model 5\")"
      ]
    }
  ],
  "metadata": {
    "colab": {
      "provenance": []
    },
    "kernelspec": {
      "display_name": "Python 3",
      "language": "python",
      "name": "python3"
    },
    "language_info": {
      "codemirror_mode": {
        "name": "ipython",
        "version": 3
      },
      "file_extension": ".py",
      "mimetype": "text/x-python",
      "name": "python",
      "nbconvert_exporter": "python",
      "pygments_lexer": "ipython3",
      "version": "3.12.3"
    },
    "orig_nbformat": 4
  },
  "nbformat": 4,
  "nbformat_minor": 0
}
